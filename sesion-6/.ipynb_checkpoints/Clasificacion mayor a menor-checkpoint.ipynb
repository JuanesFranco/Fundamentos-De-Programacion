{
 "cells": [
  {
   "cell_type": "code",
   "execution_count": 1,
   "metadata": {},
   "outputs": [
    {
     "name": "stdout",
     "output_type": "stream",
     "text": [
      "ingrese 1 valor5\n",
      "ingrese 2 valor9\n",
      "ingrese 3 valor7\n",
      "9\n",
      "7\n",
      "5\n"
     ]
    }
   ],
   "source": [
    "#Programa que clasifica los numeros de mayor a menor       \n",
    "A=int(input(\"ingrese 1 valor\"))\n",
    "B=int(input(\"ingrese 2 valor\"))\n",
    "C=int(input(\"ingrese 3 valor\"))\n",
    "if A>B and A>C:\n",
    "  print(A)\n",
    "  if B>C:\n",
    "    print(B)\n",
    "    print(C)\n",
    "  else:\n",
    "    print(C)\n",
    "    print(B)\n",
    "elif B>A and B>C:\n",
    "  print(B)\n",
    "  if A>C:\n",
    "    print(A)\n",
    "    print(C)\n",
    "  else:\n",
    "    print(C)\n",
    "    print(A)\n",
    "elif C>A and C>B:\n",
    "  print(C)\n",
    "  if A>B:\n",
    "    print(A)\n",
    "    print(B)\n",
    "  else:\n",
    "    print(B)\n",
    "    print(A)              "
   ]
  },
  {
   "cell_type": "code",
   "execution_count": null,
   "metadata": {},
   "outputs": [],
   "source": []
  }
 ],
 "metadata": {
  "kernelspec": {
   "display_name": "Python 3",
   "language": "python",
   "name": "python3"
  },
  "language_info": {
   "codemirror_mode": {
    "name": "ipython",
    "version": 3
   },
   "file_extension": ".py",
   "mimetype": "text/x-python",
   "name": "python",
   "nbconvert_exporter": "python",
   "pygments_lexer": "ipython3",
   "version": "3.8.5"
  }
 },
 "nbformat": 4,
 "nbformat_minor": 4
}
