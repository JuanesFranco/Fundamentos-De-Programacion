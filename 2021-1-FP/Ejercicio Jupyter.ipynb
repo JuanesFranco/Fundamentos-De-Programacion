{
 "cells": [
  {
   "cell_type": "markdown",
   "metadata": {},
   "source": [
    "# Condicionales"
   ]
  },
  {
   "cell_type": "markdown",
   "metadata": {},
   "source": [
    "## Condicional Simple "
   ]
  },
  {
   "cell_type": "markdown",
   "metadata": {},
   "source": [
    "### Conociendo el salario, imprimir si debe pagar impuestos "
   ]
  },
  {
   "cell_type": "code",
   "execution_count": 8,
   "metadata": {},
   "outputs": [
    {
     "name": "stdout",
     "output_type": "stream",
     "text": [
      "ingrese cual es el salario:6000\n",
      "Debe pagar impuestos\n"
     ]
    }
   ],
   "source": [
    "sueldo=int(input(\"ingrese cual es el salario:\"))\n",
    "if sueldo>=3000:\n",
    "    print(\"Debe pagar impuestos\")\n",
    "else:\n",
    "    print(\"no debe pagar impuestos\")"
   ]
  },
  {
   "cell_type": "markdown",
   "metadata": {},
   "source": [
    "## Leer las notas de los 3 parciales, el acumulado de inasistencias y calcular la nota definitiva sabiendo que 1 parcial=35%, 2parcial=35%, y el restante 30% es para el 3 parcial. Imprimir la nota definitiva mas un concepto.\n",
    "# gano academicamente\n",
    "# perido academicamente \n",
    "# perdio por inacistencia\n",
    "# perdio academicamente y por inasistencia"
   ]
  },
  {
   "cell_type": "code",
   "execution_count": 41,
   "metadata": {},
   "outputs": [
    {
     "name": "stdout",
     "output_type": "stream",
     "text": [
      "ingrese nota 1 parcial5\n",
      "ingrese nota 2 parcial4\n",
      "ingrese nota 3 parcial1\n",
      "ingrese cantidad de inasistencias9\n"
     ]
    }
   ],
   "source": [
    "pri_parcial=int(input(\"ingrese nota 1 parcial\"))\n",
    "seg_parcial=int(input(\"ingrese nota 2 parcial\"))\n",
    "ter_parcial=int(input(\"ingrese nota 3 parcial\"))\n",
    "nota=pri_parcial*0.35+seg_parcial*0.35+ter_parcial*0.30\n",
    "inasistencias=int(input(\"ingrese cantidad de inasistencias\"))"
   ]
  },
  {
   "cell_type": "code",
   "execution_count": 42,
   "metadata": {},
   "outputs": [
    {
     "name": "stdout",
     "output_type": "stream",
     "text": [
      "Gano academicamente\n"
     ]
    }
   ],
   "source": [
    "if inasistencias<12 and nota>=3:\n",
    "    print(\"Gano academicamente\")\n",
    "else:\n",
    "    if inasistencias<12 and nota<3:\n",
    "        print (\"perdio academicamente\")\n",
    "    else:\n",
    "        if inasistencias>12 and nota>3:\n",
    "            print(\"perdio por inasistencia\")\n",
    "        else:\n",
    "            if inasistencias>12 and nota<3:\n",
    "                print(\"perdio academicamente y por inasistencia\")"
   ]
  },
  {
   "cell_type": "code",
   "execution_count": null,
   "metadata": {},
   "outputs": [],
   "source": []
  },
  {
   "cell_type": "code",
   "execution_count": null,
   "metadata": {},
   "outputs": [],
   "source": []
  }
 ],
 "metadata": {
  "kernelspec": {
   "display_name": "Python 3",
   "language": "python",
   "name": "python3"
  }
 },
 "nbformat": 4,
 "nbformat_minor": 4
}
