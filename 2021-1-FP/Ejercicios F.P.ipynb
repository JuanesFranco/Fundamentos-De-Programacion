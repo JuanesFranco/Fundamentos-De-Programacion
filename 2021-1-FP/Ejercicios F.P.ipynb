{
 "cells": [
  {
   "cell_type": "markdown",
   "metadata": {},
   "source": [
    "#### 1-Calcular el valor a pagar de una compra realizada, cuyo monto neto es ingresado por el usuario. Considere que el valor del IVA (Impuesto al Valor Agregado- puede variar en cada país), y un descuento del 5% para todas las compras."
   ]
  },
  {
   "cell_type": "code",
   "execution_count": 8,
   "metadata": {},
   "outputs": [
    {
     "name": "stdout",
     "output_type": "stream",
     "text": [
      "ingrese el valor total de los productos5000\n",
      "ingrese el porcentaje del iva de su pais19\n",
      "el total a pagar es de: 4952.5\n"
     ]
    }
   ],
   "source": [
    "valor=int(input(\"ingrese el valor total de los productos\"))\n",
    "IVA=int(input(\"ingrese el porcentaje del iva de su pais\"))\n",
    "valor2=valor*IVA/100 \n",
    "total=valor-valor2*0.05\n",
    "print(\"el total a pagar es de:\",total)\n"
   ]
  },
  {
   "cell_type": "markdown",
   "metadata": {},
   "source": [
    "#### 2-Calcular el área de un círculo y longitud de su circunferencia."
   ]
  },
  {
   "cell_type": "code",
   "execution_count": 13,
   "metadata": {},
   "outputs": [
    {
     "name": "stdout",
     "output_type": "stream",
     "text": [
      "ingrese el radio del circulo15\n",
      "el area del circulo es: 706.84875\n"
     ]
    }
   ],
   "source": [
    "\n",
    "radio=int(input(\"ingrese el radio del circulo\"))\n",
    "perimetro=6.2831*radio\n",
    "area=perimetro*radio/2\n",
    "print(\"el area del circulo es:\",area)"
   ]
  },
  {
   "cell_type": "markdown",
   "metadata": {},
   "source": [
    "#### 3- Realice un programa que obtenga el índice de masa corporal de una persona, ingresando la estatura en centímetros y el peso en kilos."
   ]
  },
  {
   "cell_type": "code",
   "execution_count": 31,
   "metadata": {},
   "outputs": [
    {
     "name": "stdout",
     "output_type": "stream",
     "text": [
      "ingrese su peso en kilos80\n",
      "ingrese su estatura en metros183\n",
      "si indice de masa corporal es de: 23.8884409806205\n"
     ]
    }
   ],
   "source": [
    "\n",
    "peso=int(input(\"ingrese su peso en kilos\"))\n",
    "estatura=int(input(\"ingrese su estatura en metros\"))\n",
    "imc=peso/estatura**2*10000\n",
    "print(\"si indice de masa corporal es de:\",imc)"
   ]
  },
  {
   "cell_type": "markdown",
   "metadata": {},
   "source": [
    "#### 4- Realice un programa que obtenga la calificación que debe obtenerse en un examen supletorio, si se conoce que el promedio incluido el supletorio para aprobar debe ser mínimo de 3.5 . El usuario debe ingresar las calificaciones en números enteros del primer y segundo bimestre"
   ]
  },
  {
   "cell_type": "code",
   "execution_count": null,
   "metadata": {},
   "outputs": [],
   "source": [
    "pri_bi=int(input(\"ingrese la calificacion del primer bimestre\"))\n",
    "seg_bi=int(input(\"ingrese la calificacion del segundo bimestre\"))\n",
    "total=10.5-pri_bi-seg_bi\n",
    "print(total)\n",
    "\n"
   ]
  },
  {
   "cell_type": "markdown",
   "metadata": {},
   "source": [
    "#### 5-Calcular la velocidad a la que debe ir un vehículo para recorrer una distancia d en un tiempo t"
   ]
  },
  {
   "cell_type": "code",
   "execution_count": 37,
   "metadata": {},
   "outputs": [
    {
     "name": "stdout",
     "output_type": "stream",
     "text": [
      "ingrese la distancia8\n",
      "ingrese el tiempo6\n",
      "la velocidad a la que debe ir el vehiculo es de 1.3333333333333333\n"
     ]
    }
   ],
   "source": [
    "distancia=int(input(\"ingrese la distancia\"))\n",
    "tiempo=int(input(\"ingrese el tiempo\"))\n",
    "velocidad=distancia/tiempo\n",
    "print(\"la velocidad a la que debe ir el vehiculo es de\",velocidad)"
   ]
  },
  {
   "cell_type": "markdown",
   "metadata": {},
   "source": [
    "#### 6-Realice un programa que resuelva lo siguiente: Si n Empleados  realizan una actividad en k horas, ¿cuántos empleados se necesitarán para realizar la misma actividad en k1 horas?"
   ]
  },
  {
   "cell_type": "code",
   "execution_count": 2,
   "metadata": {},
   "outputs": [
    {
     "name": "stdout",
     "output_type": "stream",
     "text": [
      "ingrese el numeros de empleados10\n",
      "ingrese las horas que les toma a los  empleados15\n",
      "ingrese las horas que quiere que se demore el trabajo9\n",
      "el total de empleados que se necesitarian serian 16.666666666666668\n"
     ]
    }
   ],
   "source": [
    "n_empleados=int(input(\"ingrese el numeros de empleados\"))\n",
    "horas=int(input(\"ingrese las horas que les toma a los  empleados\"))\n",
    "horas2=int(input(\"ingrese las horas que quiere que se demore el trabajo\"))\n",
    "total_empleados=horas*n_empleados/horas2\n",
    "print(\"el total de empleados que se necesitarian serian\",total_empleados)\n",
    "\n",
    "\n"
   ]
  },
  {
   "cell_type": "markdown",
   "metadata": {},
   "source": [
    "#### 7-Realice un programa que simule una calculadora básica, con las operaciones: suma, resta, multiplicación, división y potencia."
   ]
  },
  {
   "cell_type": "code",
   "execution_count": 41,
   "metadata": {},
   "outputs": [
    {
     "name": "stdout",
     "output_type": "stream",
     "text": [
      "ingrese la operacion que desea realizar:suma\n",
      "ingrese primer valor:4746\n",
      "ingrese segundo valor:5785\n",
      "su resultado es: 10531\n"
     ]
    }
   ],
   "source": [
    "operacion=input(\"ingrese la operacion que desea realizar:\")\n",
    "primer_valor=int(input(\"ingrese primer valor:\"))\n",
    "seg_valor=int(input(\"ingrese segundo valor:\"))\n",
    "suma=primer_valor+seg_valor\n",
    "resta=primer_valor-seg_valor\n",
    "division=primer_valor/seg_valor\n",
    "potencia=primer_valor**seg_valor\n",
    "multiplicacion=primer_valor*seg_valor\n",
    "if operacion==\"resta\":\n",
    "    print(resta)\n",
    "else:\n",
    "    if operacion==\"suma\":\n",
    "        print(\"su resultado es:\",suma)\n",
    "    else:\n",
    "        if operacion==\"division\":\n",
    "            print(\"su resultado es:\",division)\n",
    "        else:\n",
    "            if operacion==\"multiplicacion\":\n",
    "                print(\"su resultado es:\",multiplicacion)\n",
    "            else:\n",
    "                if operacion==\"potencia\":\n",
    "                    print(\"su resultado es:\",potencia)    "
   ]
  },
  {
   "cell_type": "markdown",
   "metadata": {},
   "source": [
    "#### 8-  Calcular la fuerza que se debe aplicar a un cuerpo para moverlo en una mesa horizontal,  sabiendo que tiene una masa m (kg) y un coeficiente de rozamiento estático  Us."
   ]
  },
  {
   "cell_type": "code",
   "execution_count": null,
   "metadata": {},
   "outputs": [],
   "source": [
    "masa=int(input(\"ingrese la masa en kilogramos\"))\n",
    "rozamiento=int(input(\"ingrese \"))el coeficiente de rozamiento estatica                    "
   ]
  },
  {
   "cell_type": "markdown",
   "metadata": {},
   "source": [
    "#### 9-Leer la temperatura en grados Celsius y convertirla a grados Kelvin y a grados Farenheit"
   ]
  },
  {
   "cell_type": "code",
   "execution_count": 49,
   "metadata": {},
   "outputs": [
    {
     "name": "stdout",
     "output_type": "stream",
     "text": [
      "ingrese los grados en Celsius4\n",
      "su conversion de graodos celsius a kelvin es 277.15\n",
      "su cnversion de grados celsius a farenheit es 39.2\n"
     ]
    }
   ],
   "source": [
    "celsius=int(input(\"ingrese los grados en Celsius\"))\n",
    "kelvin=celsius+273.15\n",
    "farenheit=celsius*1.8+32\n",
    "print(\"su conversion de graodos celsius a kelvin es\",kelvin)\n",
    "print(\"su cnversion de grados celsius a farenheit es\",farenheit)\n"
   ]
  },
  {
   "cell_type": "markdown",
   "metadata": {},
   "source": [
    "#### 10-Calcular el área y perímetro de un rectángulo."
   ]
  },
  {
   "cell_type": "code",
   "execution_count": 4,
   "metadata": {},
   "outputs": [
    {
     "name": "stdout",
     "output_type": "stream",
     "text": [
      "ingrese la base del rectangulo5\n",
      "ingrese la altura del rectangulo3\n",
      "el area del rectangulo es: 15\n",
      "el perimetro del rectangulo es: 16\n"
     ]
    }
   ],
   "source": [
    "base=int(input(\"ingrese la base del rectangulo\"))\n",
    "altura=int(input(\"ingrese la altura del rectangulo\"))\n",
    "area=base*altura\n",
    "print(\"el area del rectangulo es:\",area)\n",
    "perimetro=base*2+altura*2\n",
    "print(\"el perimetro del rectangulo es:\",perimetro)"
   ]
  },
  {
   "cell_type": "markdown",
   "metadata": {},
   "source": [
    "#### 11- Calcular las raíces de una ecuación cuadrática.  Suponga que los datos ingresados no generan raíces imaginarias"
   ]
  },
  {
   "cell_type": "code",
   "execution_count": null,
   "metadata": {},
   "outputs": [],
   "source": []
  },
  {
   "cell_type": "markdown",
   "metadata": {},
   "source": [
    "#### 12-Calcular el sueldo total a recibir de un empleado.  El usuario deberá ingresar el número de horas trabajadas y el valor por cada hora. Considere en los cálculos el descuento de seguridad social y una bonificación del 2% para aquellos cuyo sueldo no supere los 300 dólares"
   ]
  },
  {
   "cell_type": "code",
   "execution_count": 1,
   "metadata": {},
   "outputs": [
    {
     "name": "stdout",
     "output_type": "stream",
     "text": [
      "ingrese las horas trabajadas120\n",
      "ingrese el valor de las horas5000\n",
      "su sueldo es 552000.0\n"
     ]
    }
   ],
   "source": [
    "horas_t=int(input(\"ingrese las horas trabajadas\"))\n",
    "p_hora=int(input(\"ingrese el valor de las horas\"))\n",
    "res=horas_t*p_hora*0.08\n",
    "valor=horas_t*p_hora-res\n",
    "bonificacion=valor*0.02\n",
    "valor2=valor+bonificacion\n",
    "if res>=300:\n",
    "    print(\"su sueldo es\",valor)\n",
    "else:\n",
    "    if resta<=300:\n",
    "        print(\"su sueldo es\",valor2)\n",
    "\n"
   ]
  },
  {
   "cell_type": "code",
   "execution_count": null,
   "metadata": {},
   "outputs": [],
   "source": []
  }
 ],
 "metadata": {
  "kernelspec": {
   "display_name": "Python 3",
   "language": "python",
   "name": "python3"
  },
  "language_info": {
   "codemirror_mode": {
    "name": "ipython",
    "version": 3
   },
   "file_extension": ".py",
   "mimetype": "text/x-python",
   "name": "python",
   "nbconvert_exporter": "python",
   "pygments_lexer": "ipython3",
   "version": "3.8.5"
  }
 },
 "nbformat": 4,
 "nbformat_minor": 4
}
