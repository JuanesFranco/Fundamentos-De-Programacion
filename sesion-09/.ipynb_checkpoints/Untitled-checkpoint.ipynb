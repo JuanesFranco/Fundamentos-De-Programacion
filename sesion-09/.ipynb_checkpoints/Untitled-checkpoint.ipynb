{
 "cells": [
  {
   "cell_type": "code",
   "execution_count": null,
   "metadata": {},
   "outputs": [],
   "source": [
    "#Declarar las variables \n",
    "var_ent_año=0\n",
    "var_ent_mes=0\n",
    "var_sal_dias=0\n"
   ]
  },
  {
   "cell_type": "code",
   "execution_count": 3,
   "metadata": {},
   "outputs": [
    {
     "name": "stdout",
     "output_type": "stream",
     "text": [
      "ingrese año2000\n",
      "ingrese mes3\n",
      "31\n",
      "el mes tiene 3 dias\n"
     ]
    }
   ],
   "source": [
    "#capturar los datos de entrada \n",
    "var_ent_año=int(input(\"ingrese año\"))\n",
    "var_ent_mes=int(input(\"ingrese mes\"))\n",
    "if var_ent_mes==1:\n",
    "    print(\"31\")\n",
    "if var_ent_mes==2:\n",
    "    print(\"28\")\n",
    "if var_ent_mes==3:\n",
    "    print(\"31\")\n",
    "if var_ent_mes==4:\n",
    "    print(\"30\")\n",
    "if var_ent_mes==5:\n",
    "    print(\"31\")\n",
    "if var_ent_mes==6:\n",
    "    print(\"28\")\n",
    "if var_ent_mes==7:\n",
    "    print(\"31\")\n",
    "if var_ent_mes==8:\n",
    "    print(\"30\")\n",
    "print(\"el mes tiene\",var_ent_mes,\"dias\")    \n",
    "    \n",
    "    \n",
    "\n",
    "    \n",
    "\n"
   ]
  },
  {
   "cell_type": "code",
   "execution_count": null,
   "metadata": {},
   "outputs": [],
   "source": []
  }
 ],
 "metadata": {
  "kernelspec": {
   "display_name": "Python 3",
   "language": "python",
   "name": "python3"
  },
  "language_info": {
   "codemirror_mode": {
    "name": "ipython",
    "version": 3
   },
   "file_extension": ".py",
   "mimetype": "text/x-python",
   "name": "python",
   "nbconvert_exporter": "python",
   "pygments_lexer": "ipython3",
   "version": "3.8.5"
  }
 },
 "nbformat": 4,
 "nbformat_minor": 4
}
